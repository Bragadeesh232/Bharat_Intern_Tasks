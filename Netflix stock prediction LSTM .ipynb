{
 "cells": [
  {
   "cell_type": "code",
   "execution_count": 64,
   "metadata": {},
   "outputs": [],
   "source": [
    "import numpy as np \n",
    "import pandas as pd \n",
    "import matplotlib.pyplot as plt \n",
    "from sklearn.preprocessing import MinMaxScaler\n",
    "from keras.models import Sequential\n",
    "from keras.layers import Dense,LSTM,Dropout"
   ]
  },
  {
   "cell_type": "code",
   "execution_count": 65,
   "metadata": {},
   "outputs": [],
   "source": [
    "data = pd.read_csv(\"NFLX.csv\")\n",
    "\n"
   ]
  },
  {
   "cell_type": "code",
   "execution_count": 66,
   "metadata": {},
   "outputs": [],
   "source": [
    "data[\"Close\"] = pd.to_numeric(data.Close, errors = 'coerce')\n",
    "data = data.dropna()\n",
    "train_data = data.iloc[:,4:5].values\n",
    "\n"
   ]
  },
  {
   "cell_type": "code",
   "execution_count": 67,
   "metadata": {},
   "outputs": [],
   "source": [
    "s = MinMaxScaler(feature_range=(0,1))\n",
    "train_data = s.fit_transform(train_data)"
   ]
  },
  {
   "cell_type": "code",
   "execution_count": 68,
   "metadata": {},
   "outputs": [],
   "source": [
    "x_train = []\n",
    "y_train = []\n",
    "\n",
    "for i in range(60,1009):\n",
    "    x_train.append(train_data[i-60:i,0])\n",
    "    y_train.append(train_data[i,0])\n",
    "\n",
    "x_train,y_train = np.array(x_train),np.array(y_train)"
   ]
  },
  {
   "cell_type": "code",
   "execution_count": 69,
   "metadata": {},
   "outputs": [],
   "source": [
    "x_train = np.reshape(x_train, (x_train.shape[0], x_train.shape[1], 1))\n"
   ]
  },
  {
   "cell_type": "code",
   "execution_count": 70,
   "metadata": {},
   "outputs": [],
   "source": [
    "model = Sequential()\n",
    "\n",
    "model.add(LSTM(units=100,return_sequences= True,input_shape =  (x_train.shape[1],1)))\n",
    "model.add(Dropout(0.2))\n",
    "\n",
    "model.add(LSTM(units=100,return_sequences= True))\n",
    "model.add(Dropout(0.2))\n",
    "\n",
    "model.add(LSTM(units=100,return_sequences= True))\n",
    "model.add(Dropout(0.2))\n",
    "\n",
    "model.add(LSTM(units=100,return_sequences= True))\n",
    "model.add(Dropout(0.2))\n",
    "\n",
    "model.add(Dense(units = 1))\n",
    "model.compile(optimizer='adam',loss ='mean_squared_error')\n"
   ]
  },
  {
   "cell_type": "code",
   "execution_count": 71,
   "metadata": {},
   "outputs": [
    {
     "name": "stdout",
     "output_type": "stream",
     "text": [
      "Epoch 1/20\n",
      "30/30 - 50s - loss: 0.0819 - 50s/epoch - 2s/step\n",
      "Epoch 2/20\n",
      "30/30 - 10s - loss: 0.0614 - 10s/epoch - 336ms/step\n",
      "Epoch 3/20\n",
      "30/30 - 11s - loss: 0.0596 - 11s/epoch - 355ms/step\n",
      "Epoch 4/20\n",
      "30/30 - 10s - loss: 0.0589 - 10s/epoch - 342ms/step\n",
      "Epoch 5/20\n",
      "30/30 - 10s - loss: 0.0588 - 10s/epoch - 338ms/step\n",
      "Epoch 6/20\n",
      "30/30 - 10s - loss: 0.0573 - 10s/epoch - 339ms/step\n",
      "Epoch 7/20\n",
      "30/30 - 10s - loss: 0.0578 - 10s/epoch - 337ms/step\n",
      "Epoch 8/20\n",
      "30/30 - 10s - loss: 0.0574 - 10s/epoch - 332ms/step\n",
      "Epoch 9/20\n",
      "30/30 - 10s - loss: 0.0569 - 10s/epoch - 335ms/step\n",
      "Epoch 10/20\n",
      "30/30 - 10s - loss: 0.0569 - 10s/epoch - 337ms/step\n",
      "Epoch 11/20\n",
      "30/30 - 10s - loss: 0.0564 - 10s/epoch - 334ms/step\n",
      "Epoch 12/20\n",
      "30/30 - 10s - loss: 0.0569 - 10s/epoch - 334ms/step\n",
      "Epoch 13/20\n",
      "30/30 - 10s - loss: 0.0568 - 10s/epoch - 339ms/step\n",
      "Epoch 14/20\n",
      "30/30 - 10s - loss: 0.0560 - 10s/epoch - 334ms/step\n",
      "Epoch 15/20\n",
      "30/30 - 10s - loss: 0.0558 - 10s/epoch - 333ms/step\n",
      "Epoch 16/20\n",
      "30/30 - 10s - loss: 0.0559 - 10s/epoch - 334ms/step\n",
      "Epoch 17/20\n",
      "30/30 - 10s - loss: 0.0560 - 10s/epoch - 330ms/step\n",
      "Epoch 18/20\n",
      "30/30 - 10s - loss: 0.0564 - 10s/epoch - 331ms/step\n",
      "Epoch 19/20\n",
      "30/30 - 10s - loss: 0.0558 - 10s/epoch - 336ms/step\n",
      "Epoch 20/20\n",
      "30/30 - 10s - loss: 0.0556 - 10s/epoch - 333ms/step\n"
     ]
    }
   ],
   "source": [
    "hist = model.fit(x_train,y_train,epochs= 20 , batch_size= 32 , verbose= 2)"
   ]
  },
  {
   "cell_type": "code",
   "execution_count": 72,
   "metadata": {},
   "outputs": [
    {
     "data": {
      "image/png": "[encoded data removed]",
      "text/plain": [
       "<Figure size 640x480 with 1 Axes>"
      ]
     },
     "metadata": {},
     "output_type": "display_data"
    }
   ],
   "source": [
    "plt.plot(hist.history['loss'])\n",
    "plt.title('training the model loss')\n",
    "plt.ylabel('loss')\n",
    "plt.xlabel('epoch')\n",
    "plt.legend(['train'],loc = 'upper right')\n",
    "\n",
    "plt.show()"
   ]
  },
  {
   "cell_type": "code",
   "execution_count": 73,
   "metadata": {},
   "outputs": [
    {
     "data": {
      "text/plain": [
       "(195, 60, 1)"
      ]
     },
     "execution_count": 73,
     "metadata": {},
     "output_type": "execute_result"
    }
   ],
   "source": [
    "test  = pd.read_csv(\"NETFLIX_monthly.csv\")\n",
    "test[\"Close\"] = pd.to_numeric(test.Close,errors='coerce')\n",
    "test = test.dropna()\n",
    "test = test.iloc[:,4:5]\n",
    "y = test.iloc[60:,0:].values\n",
    "\n",
    "inputD  = test.iloc[:,0:].values\n",
    "input_scaled = s.transform(inputD)\n",
    "input_scaled.shape\n",
    "\n",
    "x_test = []\n",
    "length = len(test)\n",
    "timestep  = 60\n",
    "for i in range(timestep,length):\n",
    "    x_test.append(input_scaled[i - timestep: i, 0])\n",
    "x_test = np.array(x_test)\n",
    "#x_test_reshaped = x_test.reshape(x_test.shape[0], x_test.shape[1],1)\n",
    "x_test = np.reshape(x_test, (x_test.shape[0], x_test.shape[1], 1 ))\n",
    "x_test.shape\n"
   ]
  },
  {
   "cell_type": "code",
   "execution_count": 74,
   "metadata": {},
   "outputs": [
    {
     "name": "stdout",
     "output_type": "stream",
     "text": [
      "7/7 [==============================] - 8s 120ms/step\n"
     ]
    },
    {
     "data": {
      "text/plain": [
       "array([[[0.2809006 ],\n",
       "        [0.376267  ],\n",
       "        [0.41143322],\n",
       "        ...,\n",
       "        [0.38755086],\n",
       "        [0.3875468 ],\n",
       "        [0.38754275]],\n",
       "\n",
       "       [[0.2809005 ],\n",
       "        [0.3762668 ],\n",
       "        [0.4114325 ],\n",
       "        ...,\n",
       "        [0.38754702],\n",
       "        [0.38754287],\n",
       "        [0.38753858]],\n",
       "\n",
       "       [[0.28090048],\n",
       "        [0.37626624],\n",
       "        [0.41143155],\n",
       "        ...,\n",
       "        [0.3875431 ],\n",
       "        [0.38753876],\n",
       "        [0.38753384]],\n",
       "\n",
       "       ...,\n",
       "\n",
       "       [[0.28167608],\n",
       "        [0.37818503],\n",
       "        [0.41438594],\n",
       "        ...,\n",
       "        [0.39810327],\n",
       "        [0.39725354],\n",
       "        [0.3966914 ]],\n",
       "\n",
       "       [[0.2815709 ],\n",
       "        [0.37806842],\n",
       "        [0.41432908],\n",
       "        ...,\n",
       "        [0.39725366],\n",
       "        [0.39669153],\n",
       "        [0.39653152]],\n",
       "\n",
       "       [[0.28162992],\n",
       "        [0.37817648],\n",
       "        [0.4143104 ],\n",
       "        ...,\n",
       "        [0.39669165],\n",
       "        [0.39653164],\n",
       "        [0.39668754]]], dtype=float32)"
      ]
     },
     "execution_count": 74,
     "metadata": {},
     "output_type": "execute_result"
    }
   ],
   "source": [
    "y = model.predict(x_test)\n",
    "y"
   ]
  },
  {
   "cell_type": "code",
   "execution_count": 75,
   "metadata": {},
   "outputs": [
    {
     "ename": "ValueError",
     "evalue": "Found array with dim 3. None expected <= 2.",
     "output_type": "error",
     "traceback": [
      "\u001b[1;31m---------------------------------------------------------------------------\u001b[0m",
      "\u001b[1;31mValueError\u001b[0m                                Traceback (most recent call last)",
      "\u001b[1;32md:\\python projects\\Netflix stock prediction LSTM .ipynb Cell 12\u001b[0m in \u001b[0;36m1\n\u001b[1;32m----> <a href='vscode-notebook-cell:/d%3A/python%20projects/Netflix%20stock%20prediction%20LSTM%20.ipynb#X22sZmlsZQ%3D%3D?line=0'>1</a>\u001b[0m y_pr \u001b[39m=\u001b[39m s\u001b[39m.\u001b[39;49minverse_transform(y)\n",
      "File \u001b[1;32mc:\\Python310\\lib\\site-packages\\sklearn\\preprocessing\\_data.py:537\u001b[0m, in \u001b[0;36mMinMaxScaler.inverse_transform\u001b[1;34m(self, X)\u001b[0m\n\u001b[0;32m    523\u001b[0m \u001b[39m\"\"\"Undo the scaling of X according to feature_range.\u001b[39;00m\n\u001b[0;32m    524\u001b[0m \n\u001b[0;32m    525\u001b[0m \u001b[39mParameters\u001b[39;00m\n\u001b[1;32m   (...)\u001b[0m\n\u001b[0;32m    533\u001b[0m \u001b[39m    Transformed data.\u001b[39;00m\n\u001b[0;32m    534\u001b[0m \u001b[39m\"\"\"\u001b[39;00m\n\u001b[0;32m    535\u001b[0m check_is_fitted(\u001b[39mself\u001b[39m)\n\u001b[1;32m--> 537\u001b[0m X \u001b[39m=\u001b[39m check_array(\n\u001b[0;32m    538\u001b[0m     X, copy\u001b[39m=\u001b[39;49m\u001b[39mself\u001b[39;49m\u001b[39m.\u001b[39;49mcopy, dtype\u001b[39m=\u001b[39;49mFLOAT_DTYPES, force_all_finite\u001b[39m=\u001b[39;49m\u001b[39m\"\u001b[39;49m\u001b[39mallow-nan\u001b[39;49m\u001b[39m\"\u001b[39;49m\n\u001b[0;32m    539\u001b[0m )\n\u001b[0;32m    541\u001b[0m X \u001b[39m-\u001b[39m\u001b[39m=\u001b[39m \u001b[39mself\u001b[39m\u001b[39m.\u001b[39mmin_\n\u001b[0;32m    542\u001b[0m X \u001b[39m/\u001b[39m\u001b[39m=\u001b[39m \u001b[39mself\u001b[39m\u001b[39m.\u001b[39mscale_\n",
      "File \u001b[1;32mc:\\Python310\\lib\\site-packages\\sklearn\\utils\\validation.py:915\u001b[0m, in \u001b[0;36mcheck_array\u001b[1;34m(array, accept_sparse, accept_large_sparse, dtype, order, copy, force_all_finite, ensure_2d, allow_nd, ensure_min_samples, ensure_min_features, estimator, input_name)\u001b[0m\n\u001b[0;32m    910\u001b[0m     \u001b[39mraise\u001b[39;00m \u001b[39mValueError\u001b[39;00m(\n\u001b[0;32m    911\u001b[0m         \u001b[39m\"\u001b[39m\u001b[39mdtype=\u001b[39m\u001b[39m'\u001b[39m\u001b[39mnumeric\u001b[39m\u001b[39m'\u001b[39m\u001b[39m is not compatible with arrays of bytes/strings.\u001b[39m\u001b[39m\"\u001b[39m\n\u001b[0;32m    912\u001b[0m         \u001b[39m\"\u001b[39m\u001b[39mConvert your data to numeric values explicitly instead.\u001b[39m\u001b[39m\"\u001b[39m\n\u001b[0;32m    913\u001b[0m     )\n\u001b[0;32m    914\u001b[0m \u001b[39mif\u001b[39;00m \u001b[39mnot\u001b[39;00m allow_nd \u001b[39mand\u001b[39;00m array\u001b[39m.\u001b[39mndim \u001b[39m>\u001b[39m\u001b[39m=\u001b[39m \u001b[39m3\u001b[39m:\n\u001b[1;32m--> 915\u001b[0m     \u001b[39mraise\u001b[39;00m \u001b[39mValueError\u001b[39;00m(\n\u001b[0;32m    916\u001b[0m         \u001b[39m\"\u001b[39m\u001b[39mFound array with dim \u001b[39m\u001b[39m%d\u001b[39;00m\u001b[39m. \u001b[39m\u001b[39m%s\u001b[39;00m\u001b[39m expected <= 2.\u001b[39m\u001b[39m\"\u001b[39m\n\u001b[0;32m    917\u001b[0m         \u001b[39m%\u001b[39m (array\u001b[39m.\u001b[39mndim, estimator_name)\n\u001b[0;32m    918\u001b[0m     )\n\u001b[0;32m    920\u001b[0m \u001b[39mif\u001b[39;00m force_all_finite:\n\u001b[0;32m    921\u001b[0m     _assert_all_finite(\n\u001b[0;32m    922\u001b[0m         array,\n\u001b[0;32m    923\u001b[0m         input_name\u001b[39m=\u001b[39minput_name,\n\u001b[0;32m    924\u001b[0m         estimator_name\u001b[39m=\u001b[39mestimator_name,\n\u001b[0;32m    925\u001b[0m         allow_nan\u001b[39m=\u001b[39mforce_all_finite \u001b[39m==\u001b[39m \u001b[39m\"\u001b[39m\u001b[39mallow-nan\u001b[39m\u001b[39m\"\u001b[39m,\n\u001b[0;32m    926\u001b[0m     )\n",
      "\u001b[1;31mValueError\u001b[0m: Found array with dim 3. None expected <= 2."
     ]
    }
   ],
   "source": [
    "y_pr = s.inverse_transform(y)"
   ]
  },
  {
   "cell_type": "code",
   "execution_count": null,
   "metadata": {},
   "outputs": [],
   "source": []
  }
 ],
 "metadata": {
  "kernelspec": {
   "display_name": "Python 3",
   "language": "python",
   "name": "python3"
  },
  "language_info": {
   "codemirror_mode": {
    "name": "ipython",
    "version": 3
   },
   "file_extension": ".py",
   "mimetype": "text/x-python",
   "name": "python",
   "nbconvert_exporter": "python",
   "pygments_lexer": "ipython3",
   "version": "3.10.8"
  },
  "orig_nbformat": 4
 },
 "nbformat": 4,
 "nbformat_minor": 2
}
